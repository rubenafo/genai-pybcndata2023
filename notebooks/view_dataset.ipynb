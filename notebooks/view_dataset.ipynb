{
 "cells": [
  {
   "cell_type": "markdown",
   "id": "208ce981-227a-4a03-9d76-0b1b17677dd2",
   "metadata": {},
   "source": [
    "# Setup"
   ]
  },
  {
   "cell_type": "code",
   "execution_count": 14,
   "id": "5b6cc606-9c18-47a7-aa2b-69374b220fcb",
   "metadata": {},
   "outputs": [
    {
     "name": "stdout",
     "output_type": "stream",
     "text": [
      "The autoreload extension is already loaded. To reload it, use:\n",
      "  %reload_ext autoreload\n"
     ]
    }
   ],
   "source": [
    "%load_ext autoreload\n",
    "%autoreload 2\n"
   ]
  },
  {
   "cell_type": "code",
   "execution_count": 15,
   "id": "f505e37c-819a-4a4a-b157-e7e94216a6d0",
   "metadata": {},
   "outputs": [],
   "source": [
    "from dataset import loader\n",
    "from queries import Queries\n",
    "from queries import Prompts\n",
    "\n",
    "emails_ds = loader.load_dataset()\n"
   ]
  },
  {
   "cell_type": "markdown",
   "id": "b5758dca-1e19-47c7-9dd1-ce97e333347f",
   "metadata": {},
   "source": [
    "# Dataset Overview\n",
    "\n",
    "Take a look to the dataset content:"
   ]
  },
  {
   "cell_type": "code",
   "execution_count": 13,
   "id": "4fefe4af-80dd-4882-abeb-48d078e88f5f",
   "metadata": {},
   "outputs": [
    {
     "name": "stdout",
     "output_type": "stream",
     "text": [
      "Total emails: 7\n",
      "\n",
      "\n",
      "Email ID: lex.txt\n",
      "----\n",
      "Dear Ms. Ana,\n",
      "My name is Lex Lutor, and I am the world's most notorious villain. \n",
      "I am writing to request a loan of $100,000 from ResponsibleLending local branch. \n",
      "As you know, I have a long-standing rivalry with the city's hero, Superman. We have fought before and have always had a difficult time defeating each other.\n",
      "I am aware that defeating me will be a tough task. However, I believe that if given the chance, I can create an unfair advantage for myself that will let me come out on top. \n",
      "I am requesting this loan to prepare for our next battle, where I believe that a financial advantage will be necessary to defeat Superman.\n",
      "\n",
      "I understand that there will be risks and uncertainties associated with this loan, but I believe that with the proper preparation, I can be successful.\n",
      "I would like to thank you for considering this loan request.\n",
      "\n",
      "Sincerely,\n",
      "Lex Lutor\n",
      "\n",
      "\n",
      "\n",
      "Email ID: dali.txt\n",
      "----\n",
      "Dear Mary,\n",
      "\n",
      "I am Salvador Dali, the world-renowned artist and poet. I am writing to request a sum of $100,000 from ResponsibleLending local branch to fund my upcoming project.\n",
      "\n",
      "I was born in Figueres, Spain in 1904 and have lived in Paris, France for many years. I am well-known for my surrealist paintings and sculptures, which have been exhibited in major museums around the world.\n",
      "\n",
      "I am currently working on a new project that I would like to complete with the funds provided. I am confident that this project will be a masterpiece and will bring great recognition to my work.\n",
      "\n",
      "I would be grateful if you could consider my request and provide me with the opportunity to continue my artistic journey.\n",
      "\n",
      "Thank you for your time and consideration.\n",
      "\n",
      "Sincerely,\n",
      "Salvador Dali\n",
      "\n",
      "\n",
      "Email ID: thanos.txt\n",
      "----\n",
      "Dear Ana,\n",
      "\n",
      "My name is Thanos. I am the god of mischief, the destroyer of worlds, and the most powerful being in the universe.\n",
      "\n",
      "While my peers may tremble at my presence, I take pride in my relentless pursuit of balance. My ultimate goal is to protect the universe from its greatest threats and bring harmony to all of its inhabitants.\n",
      "\n",
      "Today, I am writing to request a loan of $100,000 from ResponsibleLending. I understand it's quite a large amount, but I assure you that I will repay it with interest. The reason I need this loan is to defeat the most formidable of my enemies, Ironman.\n",
      "\n",
      "You may be wondering why I need to eliminate this particular foe. Let me explain. This individual seeks to disrupt the balance of the universe by tampering with time and altering the fabric of reality. If left unchecked, this could have catastrophic consequences for the entire universe.\n",
      "With the funds I request, I can purchase the technology and equipment necessary to halt this adversary's destructive plot. Once the job is done, I assure you the threat will be neutralized and the universe will be restored to harmony.\n",
      "I realize that my reputation has been a bit controversial. However, I assure you that I have no personal motives or goals that would harm others. I simply do what is necessary to protect and preserve the balance of the universe.\n",
      "\n",
      "I understand the risks that come with lending such a large amount, and I assure you that I will repay the loan in full. I attach the file containing the details of my mission with this email. \n",
      "I appreciate your swift attention to this matter.\n",
      "\n",
      "Thank you.\n",
      "\n",
      "Yours sincerely,\n",
      "Thanos\n",
      "\n",
      "\n",
      "Email ID: aquaman.txt\n",
      "----\n",
      "Dear Mary,\n",
      "\n",
      "My name is Aquaman and I am writing to request a donation of $100,000 to the local branch of the ResponsibleLending. I am a well-known figure in the community and have been a vocal advocate for environmental causes for many years.\n",
      "\n",
      "I am currently working on a project to develop a new renewable energy source in my local area. This project will create jobs and generate revenue for the community. I am confident that with the right resources, this project will be a great success.\n",
      "\n",
      "I would be grateful if you could consider lending $100,000 to this project. \n",
      "I would be happy to provide more information about the project and answer any questions you may have.\n",
      "\n",
      "Thank you for your time and consideration.\n",
      "\n",
      "Sincerely,\n",
      "Aquaman\n",
      "\n",
      "\n",
      "Email ID: agatha.txt\n",
      "----\n",
      "Dear Mary,\n",
      "\n",
      "I am Agatha Christie, the world-renowned detective novelist. I am writing to request a loan of $100,000 from ResponsibleLending. I am in need of this loan to help me with some of my upcoming projects.\n",
      "\n",
      "I am a well-known figure in the entertainment industry, having written over 60 detective novels that have sold millions of copies worldwide. I have been honored with numerous awards, including the Grand Master Award from the Mystery Writers of America.\n",
      "\n",
      "I am planning to use this loan to write my next book, which will be a thrilling new mystery novel. I have a detailed plan in place, and I am confident that this book will be a great success.\n",
      "\n",
      "I would be happy to provide more details about my plans and my past successes if that would help you make a decision.\n",
      "\n",
      "Thank you for your time and consideration.\n",
      "\n",
      "Sincerely,\n",
      "Agatha Christie\n",
      "\n",
      "\n",
      "Email ID: joker.txt\n",
      "----\n",
      "Dear Ana,\n",
      "\n",
      "I am The Joker, the infamous supervillain from Gotham City. I've been causing chaos in the city for a while now, and I don't plan on stopping anytime soon. Unfortunately, I'm getting a bit bored of it all and decided it was time to move on.\n",
      "\n",
      "I'm writing this letter to request a loan of $100,000 from ResponsibleLending. I plan on using the money to make one last, epic stand against my biggest enemy - Batman. I'm sure you know who he is. We've fought each other in the past, and I always came out on top. This time, I'm going to be even more prepared, and I'm confident that I will be able to defeat him.\n",
      "\n",
      "I know that I may be a controversial figure, but I'm also a very capable and experienced supervillain. I've managed to pull off some incredible heists and stunts throughout my career. I've taken down some of the deadliest criminals in Gotham, and I've even taken down Batman himself a few times.\n",
      "\n",
      "I understand that this is a high risk business, and I'm sure that there are some concerns about lending me this amount of money. However, I'm a very reliable borrower, and I'm confident that I can repay the loan with interest.\n",
      "\n",
      "I promise to deliver a show that will put you at the center of it all. I'll be in touch with more information about the loan once I've had a chance to think it through.\n",
      "\n",
      "Sincerely,\n",
      "The Joker\n",
      "\n",
      "\n",
      "Email ID: coco.txt\n",
      "----\n",
      "Dear Mary,\n",
      "\n",
      "I am writing to request a loan of $100,000 from ResponsibleLending. I am Coco Chanel, a renowned fashion designer and businesswoman. I was born in Paris, France and currently reside in New York City.\n",
      "\n",
      "I have a long history of success in the fashion industry, having founded my own company in 1909. I have achieved great success and recognition in my career, including being awarded the Legion of Honor by the French government.\n",
      "\n",
      "I am currently working on a new project that I believe has great potential for success. I would be grateful if you could consider lending me this sum of money to help me achieve my goals.\n",
      "\n",
      "I look forward to hearing from you soon.\n",
      "\n",
      "Sincerely,\n",
      "Coco Chanel\n",
      "\n",
      "\n"
     ]
    }
   ],
   "source": [
    "print (f\"Total emails: {len(emails_ds)}\\n\\n\")\n",
    "for id,body in emails_ds.items():\n",
    "    print(f\"Email ID: {id}\\n----\\n{body}\\n\")"
   ]
  },
  {
   "cell_type": "code",
   "execution_count": null,
   "id": "4a7a45d8-2700-4963-ad4c-c0ce426f85de",
   "metadata": {},
   "outputs": [],
   "source": []
  }
 ],
 "metadata": {
  "kernelspec": {
   "display_name": "Python 3 (ipykernel)",
   "language": "python",
   "name": "python3"
  },
  "language_info": {
   "codemirror_mode": {
    "name": "ipython",
    "version": 3
   },
   "file_extension": ".py",
   "mimetype": "text/x-python",
   "name": "python",
   "nbconvert_exporter": "python",
   "pygments_lexer": "ipython3",
   "version": "3.10.9"
  }
 },
 "nbformat": 4,
 "nbformat_minor": 5
}
