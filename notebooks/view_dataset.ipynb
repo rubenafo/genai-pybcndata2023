{
 "cells": [
  {
   "cell_type": "markdown",
   "id": "208ce981-227a-4a03-9d76-0b1b17677dd2",
   "metadata": {},
   "source": [
    "# Setup"
   ]
  },
  {
   "cell_type": "code",
   "execution_count": null,
   "id": "5b6cc606-9c18-47a7-aa2b-69374b220fcb",
   "metadata": {},
   "outputs": [],
   "source": [
    "%load_ext autoreload\n",
    "%autoreload 2\n"
   ]
  },
  {
   "cell_type": "code",
   "execution_count": null,
   "id": "f505e37c-819a-4a4a-b157-e7e94216a6d0",
   "metadata": {},
   "outputs": [],
   "source": [
    "from dataset import loader\n",
    "from queries import Queries\n",
    "from queries import Prompts\n",
    "\n",
    "emails_ds = loader.load_dataset()\n"
   ]
  },
  {
   "cell_type": "markdown",
   "id": "b5758dca-1e19-47c7-9dd1-ce97e333347f",
   "metadata": {},
   "source": [
    "# Dataset Overview\n",
    "\n",
    "Take a look to the dataset content:"
   ]
  },
  {
   "cell_type": "code",
   "execution_count": null,
   "id": "4fefe4af-80dd-4882-abeb-48d078e88f5f",
   "metadata": {},
   "outputs": [],
   "source": [
    "print (f\"Total emails: {len(emails_ds)}\\n\\n\")\n",
    "for id,body in emails_ds.items():\n",
    "    print(f\"Email ID: {id}\\n----\\n{body}\\n\")"
   ]
  },
  {
   "cell_type": "code",
   "execution_count": null,
   "id": "4a7a45d8-2700-4963-ad4c-c0ce426f85de",
   "metadata": {},
   "outputs": [],
   "source": []
  }
 ],
 "metadata": {
  "kernelspec": {
   "display_name": "Python 3 (ipykernel)",
   "language": "python",
   "name": "python3"
  },
  "language_info": {
   "codemirror_mode": {
    "name": "ipython",
    "version": 3
   },
   "file_extension": ".py",
   "mimetype": "text/x-python",
   "name": "python",
   "nbconvert_exporter": "python",
   "pygments_lexer": "ipython3",
   "version": "3.10.9"
  }
 },
 "nbformat": 4,
 "nbformat_minor": 5
}
